{
 "cells": [
  {
   "cell_type": "markdown",
   "metadata": {},
   "source": [
    "# Actividad 4.3. Similitud en textos mediante TF-IDF y Cadenas de Markov\n",
    "---\n",
    "**Por: Ian Joab Padron Corona - A01708940**"
   ]
  },
  {
   "cell_type": "code",
   "execution_count": 25,
   "metadata": {},
   "outputs": [],
   "source": [
    "import pandas as pd\n",
    "import math\n",
    "import re"
   ]
  },
  {
   "cell_type": "code",
   "execution_count": 26,
   "metadata": {},
   "outputs": [],
   "source": [
    "def df_file(archivo):\n",
    "    data = pd.read_csv(archivo, header=0, encoding='utf-8')\n",
    "    return data"
   ]
  },
  {
   "cell_type": "code",
   "execution_count": 27,
   "metadata": {},
   "outputs": [],
   "source": [
    "def clean_text(text):\n",
    "    if not isinstance(text, str):\n",
    "        text = str(text)\n",
    "    text = re.sub(r'[^a-zA-Z0-9\\s]', ' ', text)\n",
    "    return text.lower()"
   ]
  },
  {
   "cell_type": "code",
   "execution_count": 28,
   "metadata": {},
   "outputs": [],
   "source": [
    "def array_words(text):\n",
    "    return text.split()"
   ]
  },
  {
   "cell_type": "code",
   "execution_count": 29,
   "metadata": {},
   "outputs": [],
   "source": [
    "def uniqueWords(q1, q2):\n",
    "    words_q1 = array_words(q1)\n",
    "    words_q2 = array_words(q2)\n",
    "    unique_words = set(words_q1 + words_q2)\n",
    "    return list(unique_words)"
   ]
  },
  {
   "cell_type": "code",
   "execution_count": 30,
   "metadata": {},
   "outputs": [],
   "source": [
    "def countWords(q, wordsq1q2):\n",
    "    q_words = array_words(q)\n",
    "    wordsCount = []\n",
    "    for word in wordsq1q2:\n",
    "        wordsCount.append(q_words.count(word)/len(q_words))\n",
    "    return wordsCount"
   ]
  },
  {
   "cell_type": "code",
   "execution_count": 31,
   "metadata": {},
   "outputs": [],
   "source": [
    "def idf(words, q1, q2):\n",
    "    idfs = []\n",
    "    for word in words:\n",
    "        docs_count = 0\n",
    "        if word in array_words(q1):\n",
    "            docs_count += 1\n",
    "        if word in array_words(q2):\n",
    "            docs_count += 1\n",
    "        idf = ((math.log(2/(docs_count + 1))) + 1)\n",
    "        idfs.append(idf)\n",
    "    return idfs"
   ]
  },
  {
   "cell_type": "code",
   "execution_count": 32,
   "metadata": {},
   "outputs": [],
   "source": [
    "def tfByIDF(tfQ, idf):\n",
    "    return [tf * idf_val for tf, idf_val in zip(tfQ, idf)]"
   ]
  },
  {
   "cell_type": "code",
   "execution_count": null,
   "metadata": {},
   "outputs": [],
   "source": [
    "def main():\n",
    "    # Definir el nombre del archivo\n",
    "    archivo = 'questions.csv'\n",
    "    \n",
    "    # Llamar la funcion df_file para obtener el DataFrame\n",
    "    data = df_file(archivo).head(3)\n",
    "    \n",
    "    # Aplicar la funcion regex a la columna 'question1' y 'question2 del DataFrame\n",
    "    data['question1'] = data['question1'].apply(clean_text)\n",
    "    data['question2'] = data['question2'].apply(clean_text)\n",
    "\n",
    "    # Crear una columna que contenga un array con todas las palabras de question1 y question2, sin duplicados\n",
    "    data['words'] = data.apply(lambda x: uniqueWords(x['question1'], x['question2']), axis=1)\n",
    "\n",
    "    # Crear una columna que contenga un array con la cantidad de veces que aparece cada palabra de words en q1,q2\n",
    "    data['TF_q1'] = data.apply(lambda x: countWords(x['question1'], x['words']), axis=1)\n",
    "    data['TF_q2'] = data.apply(lambda x: countWords(x['question2'], x['words']), axis=1)\n",
    "\n",
    "    # Crear una columna que contenga el array de IDF's de cada palabra en words\n",
    "    data['IDF'] = data.apply(lambda x: idf(x['words'], x['question1'], x['question2']), axis=1)\n",
    "\n",
    "    # Crear una columna que contenga el array de TF-IDF's de cada palabra en words\n",
    "    data['TF-IDFq1'] = data.apply(lambda x: tfByIDF(x['TF_q1'], x['IDF']), axis=1)\n",
    "    data['TF-IDFq2'] = data.apply(lambda x: tfByIDF(x['TF_q2'], x['IDF']), axis=1)\n",
    "    \n",
    "    # Guardar el DataFrame en un archivo CSV\n",
    "    data.to_csv('tf_IDF.csv', index=False)\n",
    "\n",
    "\n",
    "main()"
   ]
  }
 ],
 "metadata": {
  "kernelspec": {
   "display_name": "Python 3",
   "language": "python",
   "name": "python3"
  },
  "language_info": {
   "codemirror_mode": {
    "name": "ipython",
    "version": 3
   },
   "file_extension": ".py",
   "mimetype": "text/x-python",
   "name": "python",
   "nbconvert_exporter": "python",
   "pygments_lexer": "ipython3",
   "version": "3.10.12"
  }
 },
 "nbformat": 4,
 "nbformat_minor": 2
}
