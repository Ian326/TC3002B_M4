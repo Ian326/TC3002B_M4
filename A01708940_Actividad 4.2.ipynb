{
 "cells": [
  {
   "cell_type": "markdown",
   "metadata": {},
   "source": [
    "# Actividad 4.2. Similitud en textos mediante BoW.\n",
    "---\n",
    "**Por: Ian Joab Padron Corona - A01708940**"
   ]
  },
  {
   "cell_type": "code",
   "execution_count": 1,
   "metadata": {},
   "outputs": [],
   "source": [
    "# Importar librerias Pandas, Math y Matplotlib\n",
    "import pandas as pd\n",
    "import numpy as np\n",
    "import re"
   ]
  },
  {
   "cell_type": "code",
   "execution_count": 2,
   "metadata": {},
   "outputs": [],
   "source": [
    "def df_file(archivo):\n",
    "    # Extraer informacion de data01.txt\n",
    "    archivo = f'./content/{archivo}'\n",
    "    data = pd.read_csv(archivo, header=0, encoding='utf-8')\n",
    "    return data"
   ]
  },
  {
   "cell_type": "code",
   "execution_count": 3,
   "metadata": {},
   "outputs": [],
   "source": [
    "def clean_text(text):\n",
    "    # Convertir a string y aplicar regex para eliminar caracteres no deseados\n",
    "    if not isinstance(text, str):\n",
    "        text = str(text)\n",
    "    text = re.sub(r'[^a-zA-Z0-9\\s]', ' ', text)\n",
    "    return text.lower()"
   ]
  },
  {
   "cell_type": "code",
   "execution_count": 4,
   "metadata": {},
   "outputs": [],
   "source": [
    "def array_words(text):\n",
    "    # Regresar un array con todas las palabras de un string\n",
    "    return text.split()"
   ]
  },
  {
   "cell_type": "code",
   "execution_count": 5,
   "metadata": {},
   "outputs": [],
   "source": [
    "def cosine_similarity(q1_vector, q2_vector):\n",
    "    # Calcular el coseno de similitud entre dos vectores\n",
    "\n",
    "    # Producto punto entre los vectores\n",
    "    dot_product = np.dot(q1_vector, q2_vector)\n",
    "\n",
    "    # Norma de los vectores\n",
    "    norm_q1 = np.linalg.norm(q1_vector)\n",
    "    norm_q2 = np.linalg.norm(q2_vector)\n",
    "\n",
    "    # Evitar división por cero\n",
    "    if norm_q1 == 0 or norm_q2 == 0:\n",
    "        return 0  \n",
    "    \n",
    "    # Calcular el coseno de similitud\n",
    "    return dot_product / (norm_q1 * norm_q2)"
   ]
  },
  {
   "cell_type": "code",
   "execution_count": null,
   "metadata": {},
   "outputs": [
    {
     "name": "stdout",
     "output_type": "stream",
     "text": [
      "                                                q1_vector  \\\n",
      "0                                            [2, 2, 1, 1]   \n",
      "1                             [1, 1, 0, 1, 1, 0, 0, 1, 0]   \n",
      "2        [1, 2, 1, 0, 0, 1, 2, 0, 1, 1, 1, 1, 0, 1, 2, 0]   \n",
      "3       [0, 0, 0, 1, 0, 1, 0, 0, 0, 1, 0, 1, 0, 2, 1, ...   \n",
      "4        [1, 0, 1, 1, 1, 1, 1, 1, 1, 1, 1, 0, 1, 1, 0, 1]   \n",
      "...                                                   ...   \n",
      "404346         [1, 1, 1, 1, 0, 1, 1, 1, 1, 1, 2, 1, 1, 1]   \n",
      "404347                  [1, 1, 0, 0, 1, 1, 1, 1, 1, 0, 1]   \n",
      "404348                                 [1, 1, 1, 0, 1, 0]   \n",
      "404349  [0, 1, 0, 0, 1, 0, 1, 1, 1, 0, 0, 1, 0, 0, 1, ...   \n",
      "404350                     [1, 0, 1, 0, 1, 1, 1, 1, 1, 1]   \n",
      "\n",
      "                                                q2_vector  cosine_distance  \n",
      "0                                            [1, 3, 1, 4]         0.791155  \n",
      "1                             [1, 1, 1, 0, 2, 1, 1, 0, 1]         0.565685  \n",
      "2        [0, 1, 0, 1, 1, 1, 0, 2, 1, 1, 0, 1, 1, 1, 0, 1]         0.418330  \n",
      "3       [2, 2, 1, 0, 1, 0, 2, 1, 1, 0, 1, 0, 1, 0, 0, ...         0.000000  \n",
      "4        [1, 1, 0, 0, 1, 0, 0, 0, 1, 0, 0, 1, 1, 0, 1, 0]         0.419314  \n",
      "...                                                   ...              ...  \n",
      "404346         [1, 0, 1, 1, 1, 1, 1, 1, 1, 1, 1, 2, 1, 0]         0.839146  \n",
      "404347                  [2, 1, 1, 1, 0, 1, 1, 0, 0, 1, 1]         0.639602  \n",
      "404348                                 [0, 1, 0, 1, 1, 1]         0.500000  \n",
      "404349  [1, 0, 1, 1, 0, 1, 0, 0, 0, 1, 1, 0, 1, 1, 0, ...         0.043561  \n",
      "404350                     [1, 1, 1, 1, 1, 1, 1, 1, 1, 1]         0.894427  \n",
      "\n",
      "[404351 rows x 3 columns]\n"
     ]
    }
   ],
   "source": [
    "def main():\n",
    "    # Definir el nombre del archivo\n",
    "    archivo = 'questions.csv'\n",
    "    \n",
    "    # Llamar la funcion df_file para obtener el DataFrame\n",
    "    data = df_file(archivo)\n",
    "    \n",
    "    # Aplicar la funcion regex a la columna 'question1' y 'question2 del DataFrame\n",
    "    data['question1'] = data['question1'].apply(clean_text)\n",
    "    data['question2'] = data['question2'].apply(clean_text)\n",
    "\n",
    "    # Crear una nueva columna que contenga un array con todas las palabras de question1 y question2, sin duplicados\n",
    "    data['words'] = data.apply(lambda x: list(set(array_words(x['question1']) + array_words(x['question2']))), axis=1)\n",
    "\n",
    "    # Crear una nueva columna que contenga un array con la cantidad de veces que aparece cada palabra de questions1 en words\n",
    "    data['q1_vector'] = data.apply(lambda x: [x['question1'].split().count(word) for word in x['words']], axis=1)\n",
    "    # Crear una nueva columna que contenga un array con la cantidad de veces que aparece cada palabra de questions2 en words\n",
    "    data['q2_vector'] = data.apply(lambda x: [x['question2'].split().count(word) for word in x['words']], axis=1)\n",
    "\n",
    "    # Crear una nueva columna que contenga la distancia entre q1_vector y q2_vector\n",
    "    data['cosine_distance'] = data.apply(lambda x: cosine_similarity(x['q1_vector'], x['q2_vector']), axis=1)\n",
    "\n",
    "    # Imprimir el DataFrame resultante\n",
    "    print(data[['q1_vector', 'q2_vector', 'cosine_distance']])\n",
    "\n",
    "    # Guardar el DataFrame en un archivo CSV\n",
    "    data.to_csv('./outputs/BoW_results.csv', index=False)\n",
    "\n",
    "main()"
   ]
  }
 ],
 "metadata": {
  "kernelspec": {
   "display_name": "Python 3",
   "language": "python",
   "name": "python3"
  },
  "language_info": {
   "codemirror_mode": {
    "name": "ipython",
    "version": 3
   },
   "file_extension": ".py",
   "mimetype": "text/x-python",
   "name": "python",
   "nbconvert_exporter": "python",
   "pygments_lexer": "ipython3",
   "version": "3.10.12"
  }
 },
 "nbformat": 4,
 "nbformat_minor": 2
}
